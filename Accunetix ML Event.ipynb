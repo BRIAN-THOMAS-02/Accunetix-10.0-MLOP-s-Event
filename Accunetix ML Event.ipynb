{
 "cells": [
  {
   "cell_type": "markdown",
   "id": "b78ba32b",
   "metadata": {},
   "source": [
    "# <center align> ML Event"
   ]
  },
  {
   "cell_type": "markdown",
   "id": "adb3442d",
   "metadata": {},
   "source": [
    "***"
   ]
  },
  {
   "cell_type": "markdown",
   "id": "9d9f512c",
   "metadata": {},
   "source": [
    "## Problem Statement\n",
    "\n",
    "Mr. Shaw wants to open his Luxury Car Brand - Porsche in one of the cities of the state of Tennessee. <br>\n",
    "He must decide if it is profitable to open his Car Brand branch in the city of Nashville. <br> \n",
    "If it is not profitable then the Branch must not be opened in the city.\n",
    "\n",
    "<b> Using the given data you must help Mr. Shaw must decide the fate of his Branch. </b>"
   ]
  },
  {
   "cell_type": "markdown",
   "id": "99f740fd",
   "metadata": {},
   "source": [
    "***"
   ]
  },
  {
   "cell_type": "markdown",
   "id": "bb09a246",
   "metadata": {},
   "source": [
    "## Answer Format\n",
    "\n",
    "<b> 1) State if Branch must opened or not <br>\n",
    "<b> 2) State reason for your answer"
   ]
  },
  {
   "cell_type": "markdown",
   "id": "273975b1",
   "metadata": {},
   "source": [
    "***"
   ]
  },
  {
   "cell_type": "markdown",
   "id": "df59dca5",
   "metadata": {},
   "source": [
    "### Given Data:\n",
    "\n",
    "<b> 1) The Income of all people in the city of Nashville is given here and using the same, solution must be derived </b>\n",
    "\n",
    "<b> 2) The Average cost of Vehicles is given using which we can compare the Income and determine the profitability </b>\n",
    "\n",
    "#### Average Cost of Porsche Vehicles is 10M $"
   ]
  },
  {
   "cell_type": "markdown",
   "id": "db3a746f",
   "metadata": {},
   "source": [
    "***"
   ]
  },
  {
   "cell_type": "markdown",
   "id": "f2720c4a",
   "metadata": {},
   "source": [
    "## Procedure:\n",
    "\n",
    "1) Extract the data <br>\n",
    "2) Perform Visualizations  <br>\n",
    "3) Understand the data <br>\n",
    "4) State your Answer with reason"
   ]
  },
  {
   "cell_type": "markdown",
   "id": "a298edaf",
   "metadata": {},
   "source": [
    "***"
   ]
  },
  {
   "cell_type": "markdown",
   "id": "1013a420",
   "metadata": {},
   "source": [
    "***"
   ]
  },
  {
   "cell_type": "markdown",
   "id": "d3025f5a",
   "metadata": {},
   "source": [
    "# Solution"
   ]
  },
  {
   "cell_type": "markdown",
   "id": "512d47ac",
   "metadata": {},
   "source": [
    "***"
   ]
  },
  {
   "cell_type": "markdown",
   "id": "817b1d3a",
   "metadata": {},
   "source": [
    "### Import Libraries"
   ]
  },
  {
   "cell_type": "code",
   "execution_count": 1,
   "id": "03d5c45b",
   "metadata": {},
   "outputs": [],
   "source": [
    "import numpy as np\n",
    "import pandas as pd\n",
    "import seaborn as sns\n",
    "import matplotlib.pyplot as plt\n",
    "\n",
    "from scipy import stats"
   ]
  },
  {
   "cell_type": "code",
   "execution_count": 2,
   "id": "18de3611",
   "metadata": {},
   "outputs": [],
   "source": [
    "%matplotlib inline"
   ]
  },
  {
   "cell_type": "markdown",
   "id": "03a66a6d",
   "metadata": {},
   "source": [
    "### Creating Dataframe to read contents of CVS File"
   ]
  },
  {
   "cell_type": "code",
   "execution_count": 192,
   "id": "55b694ec",
   "metadata": {},
   "outputs": [],
   "source": [
    "df = pd.read_csv('Scaling_Better.csv')"
   ]
  },
  {
   "cell_type": "code",
   "execution_count": 193,
   "id": "683b416b",
   "metadata": {},
   "outputs": [
    {
     "data": {
      "text/html": [
       "<div>\n",
       "<style scoped>\n",
       "    .dataframe tbody tr th:only-of-type {\n",
       "        vertical-align: middle;\n",
       "    }\n",
       "\n",
       "    .dataframe tbody tr th {\n",
       "        vertical-align: top;\n",
       "    }\n",
       "\n",
       "    .dataframe thead th {\n",
       "        text-align: right;\n",
       "    }\n",
       "</style>\n",
       "<table border=\"1\" class=\"dataframe\">\n",
       "  <thead>\n",
       "    <tr style=\"text-align: right;\">\n",
       "      <th></th>\n",
       "      <th>Income</th>\n",
       "      <th>Population</th>\n",
       "    </tr>\n",
       "  </thead>\n",
       "  <tbody>\n",
       "    <tr>\n",
       "      <th>0</th>\n",
       "      <td>25</td>\n",
       "      <td>11</td>\n",
       "    </tr>\n",
       "    <tr>\n",
       "      <th>1</th>\n",
       "      <td>45</td>\n",
       "      <td>16</td>\n",
       "    </tr>\n",
       "    <tr>\n",
       "      <th>2</th>\n",
       "      <td>35</td>\n",
       "      <td>13</td>\n",
       "    </tr>\n",
       "    <tr>\n",
       "      <th>3</th>\n",
       "      <td>98</td>\n",
       "      <td>35</td>\n",
       "    </tr>\n",
       "    <tr>\n",
       "      <th>4</th>\n",
       "      <td>12</td>\n",
       "      <td>5</td>\n",
       "    </tr>\n",
       "    <tr>\n",
       "      <th>...</th>\n",
       "      <td>...</td>\n",
       "      <td>...</td>\n",
       "    </tr>\n",
       "    <tr>\n",
       "      <th>144</th>\n",
       "      <td>3</td>\n",
       "      <td>3</td>\n",
       "    </tr>\n",
       "    <tr>\n",
       "      <th>145</th>\n",
       "      <td>1</td>\n",
       "      <td>1</td>\n",
       "    </tr>\n",
       "    <tr>\n",
       "      <th>146</th>\n",
       "      <td>5846</td>\n",
       "      <td>79</td>\n",
       "    </tr>\n",
       "    <tr>\n",
       "      <th>147</th>\n",
       "      <td>421</td>\n",
       "      <td>58</td>\n",
       "    </tr>\n",
       "    <tr>\n",
       "      <th>148</th>\n",
       "      <td>98794</td>\n",
       "      <td>16</td>\n",
       "    </tr>\n",
       "  </tbody>\n",
       "</table>\n",
       "<p>149 rows × 2 columns</p>\n",
       "</div>"
      ],
      "text/plain": [
       "     Income  Population\n",
       "0        25          11\n",
       "1        45          16\n",
       "2        35          13\n",
       "3        98          35\n",
       "4        12           5\n",
       "..      ...         ...\n",
       "144       3           3\n",
       "145       1           1\n",
       "146    5846          79\n",
       "147     421          58\n",
       "148   98794          16\n",
       "\n",
       "[149 rows x 2 columns]"
      ]
     },
     "execution_count": 193,
     "metadata": {},
     "output_type": "execute_result"
    }
   ],
   "source": [
    "df"
   ]
  },
  {
   "cell_type": "markdown",
   "id": "4f0d7e7e",
   "metadata": {},
   "source": [
    "#### Storing the Values in Variables"
   ]
  },
  {
   "cell_type": "code",
   "execution_count": 194,
   "id": "f74032b5",
   "metadata": {},
   "outputs": [
    {
     "name": "stdout",
     "output_type": "stream",
     "text": [
      "Income : \n",
      "0         25\n",
      "1         45\n",
      "2         35\n",
      "3         98\n",
      "4         12\n",
      "       ...  \n",
      "144        3\n",
      "145        1\n",
      "146     5846\n",
      "147      421\n",
      "148    98794\n",
      "Name: Income, Length: 149, dtype: int64\n",
      "\n",
      "Population : \n",
      "0      11\n",
      "1      16\n",
      "2      13\n",
      "3      35\n",
      "4       5\n",
      "       ..\n",
      "144     3\n",
      "145     1\n",
      "146    79\n",
      "147    58\n",
      "148    16\n",
      "Name: Population, Length: 149, dtype: int64\n"
     ]
    }
   ],
   "source": [
    "income = df['Income']\n",
    "print('Income : ')\n",
    "print(income)\n",
    "\n",
    "print()\n",
    "\n",
    "population = df['Population']\n",
    "print('Population : ')\n",
    "print(population)"
   ]
  },
  {
   "cell_type": "markdown",
   "id": "0156844d",
   "metadata": {},
   "source": [
    "### This shows us that there are no NULL Values in the Dataset"
   ]
  },
  {
   "cell_type": "code",
   "execution_count": 195,
   "id": "43ddf3d9",
   "metadata": {},
   "outputs": [
    {
     "data": {
      "text/plain": [
       "Income        0\n",
       "Population    0\n",
       "dtype: int64"
      ]
     },
     "execution_count": 195,
     "metadata": {},
     "output_type": "execute_result"
    }
   ],
   "source": [
    "df.isnull().sum()"
   ]
  },
  {
   "cell_type": "markdown",
   "id": "ece84e0e",
   "metadata": {},
   "source": [
    "### This gives us the Basic Information about the Dataset"
   ]
  },
  {
   "cell_type": "code",
   "execution_count": 196,
   "id": "cc1e633c",
   "metadata": {},
   "outputs": [
    {
     "name": "stdout",
     "output_type": "stream",
     "text": [
      "<class 'pandas.core.frame.DataFrame'>\n",
      "RangeIndex: 149 entries, 0 to 148\n",
      "Data columns (total 2 columns):\n",
      " #   Column      Non-Null Count  Dtype\n",
      "---  ------      --------------  -----\n",
      " 0   Income      149 non-null    int64\n",
      " 1   Population  149 non-null    int64\n",
      "dtypes: int64(2)\n",
      "memory usage: 2.5 KB\n"
     ]
    }
   ],
   "source": [
    "df.info()"
   ]
  },
  {
   "cell_type": "markdown",
   "id": "b41671ee",
   "metadata": {},
   "source": [
    "### This gives the all the Unique Values in our Feature 'Income'"
   ]
  },
  {
   "cell_type": "code",
   "execution_count": 197,
   "id": "bd45707b",
   "metadata": {},
   "outputs": [
    {
     "data": {
      "text/plain": [
       "array([      25,       45,       35,       98,       12,       78,\n",
       "             89,       56,        2,        3,        1,        5,\n",
       "             65,        4,        8,        6,       23,       79,\n",
       "            213, 23166458,      123,      185,    96846,       13,\n",
       "            876,       21,      324,      687,      132,      684,\n",
       "          74964,       16,       30,      301,       31,       54,\n",
       "             32,      546,      874,       94,        9,    65465,\n",
       "            312,       64,     9874,      654,      486,      210,\n",
       "            314,      798,      416,       20,      321,     8496,\n",
       "          96541,      231,     9651,       84,       96,       97,\n",
       "            987,     8945,       14,      974,       61,     5464,\n",
       "           8498,       10,      648,      964,       48,      947,\n",
       "             11,    65461,     5846,      421,    98794], dtype=int64)"
      ]
     },
     "execution_count": 197,
     "metadata": {},
     "output_type": "execute_result"
    }
   ],
   "source": [
    "income_unique = df['Income'].unique()\n",
    "\n",
    "income_unique"
   ]
  },
  {
   "cell_type": "markdown",
   "id": "8e759cb2",
   "metadata": {},
   "source": [
    "### This gives the all the Unique Values in our Feature 'Population'"
   ]
  },
  {
   "cell_type": "code",
   "execution_count": 198,
   "id": "b7eb33ec",
   "metadata": {
    "scrolled": true
   },
   "outputs": [
    {
     "data": {
      "text/plain": [
       "array([11, 16, 13, 35,  5, 25, 30, 18,  2,  1,  3, 20, 36,  4, 26, 49, 29,\n",
       "        6, 42, 45, 70, 55, 79, 43, 63, 21,  7, 54, 19, 60, 71, 87, 40, 59,\n",
       "       53, 47, 67, 58,  9, 82, 48, 86, 28, 38, 76, 83, 46, 64, 62, 17, 75],\n",
       "      dtype=int64)"
      ]
     },
     "execution_count": 198,
     "metadata": {},
     "output_type": "execute_result"
    }
   ],
   "source": [
    "population_unique = df['Population'].unique()\n",
    "\n",
    "population_unique"
   ]
  },
  {
   "cell_type": "markdown",
   "id": "9757cdbf",
   "metadata": {},
   "source": [
    "### This gives us the Arithmetic Values of our Data"
   ]
  },
  {
   "cell_type": "code",
   "execution_count": 199,
   "id": "c0e37c4a",
   "metadata": {},
   "outputs": [
    {
     "data": {
      "text/html": [
       "<div>\n",
       "<style scoped>\n",
       "    .dataframe tbody tr th:only-of-type {\n",
       "        vertical-align: middle;\n",
       "    }\n",
       "\n",
       "    .dataframe tbody tr th {\n",
       "        vertical-align: top;\n",
       "    }\n",
       "\n",
       "    .dataframe thead th {\n",
       "        text-align: right;\n",
       "    }\n",
       "</style>\n",
       "<table border=\"1\" class=\"dataframe\">\n",
       "  <thead>\n",
       "    <tr style=\"text-align: right;\">\n",
       "      <th></th>\n",
       "      <th>Income</th>\n",
       "      <th>Population</th>\n",
       "    </tr>\n",
       "  </thead>\n",
       "  <tbody>\n",
       "    <tr>\n",
       "      <th>count</th>\n",
       "      <td>1.490000e+02</td>\n",
       "      <td>149.000000</td>\n",
       "    </tr>\n",
       "    <tr>\n",
       "      <th>mean</th>\n",
       "      <td>1.593548e+05</td>\n",
       "      <td>27.214765</td>\n",
       "    </tr>\n",
       "    <tr>\n",
       "      <th>std</th>\n",
       "      <td>1.897623e+06</td>\n",
       "      <td>26.612221</td>\n",
       "    </tr>\n",
       "    <tr>\n",
       "      <th>min</th>\n",
       "      <td>1.000000e+00</td>\n",
       "      <td>1.000000</td>\n",
       "    </tr>\n",
       "    <tr>\n",
       "      <th>25%</th>\n",
       "      <td>6.000000e+00</td>\n",
       "      <td>4.000000</td>\n",
       "    </tr>\n",
       "    <tr>\n",
       "      <th>50%</th>\n",
       "      <td>5.400000e+01</td>\n",
       "      <td>16.000000</td>\n",
       "    </tr>\n",
       "    <tr>\n",
       "      <th>75%</th>\n",
       "      <td>3.210000e+02</td>\n",
       "      <td>49.000000</td>\n",
       "    </tr>\n",
       "    <tr>\n",
       "      <th>max</th>\n",
       "      <td>2.316646e+07</td>\n",
       "      <td>87.000000</td>\n",
       "    </tr>\n",
       "  </tbody>\n",
       "</table>\n",
       "</div>"
      ],
      "text/plain": [
       "             Income  Population\n",
       "count  1.490000e+02  149.000000\n",
       "mean   1.593548e+05   27.214765\n",
       "std    1.897623e+06   26.612221\n",
       "min    1.000000e+00    1.000000\n",
       "25%    6.000000e+00    4.000000\n",
       "50%    5.400000e+01   16.000000\n",
       "75%    3.210000e+02   49.000000\n",
       "max    2.316646e+07   87.000000"
      ]
     },
     "execution_count": 199,
     "metadata": {},
     "output_type": "execute_result"
    }
   ],
   "source": [
    "df.describe()"
   ]
  },
  {
   "cell_type": "code",
   "execution_count": 200,
   "id": "4e0aee47",
   "metadata": {},
   "outputs": [
    {
     "name": "stdout",
     "output_type": "stream",
     "text": [
      "MAX : \n",
      " Income        23166458\n",
      "Population          87\n",
      "dtype: int64\n",
      "\n",
      "MEAN : \n",
      " Income        159354.791946\n",
      "Population        27.214765\n",
      "dtype: float64\n",
      "\n",
      "MIN : \n",
      " Income        1\n",
      "Population    1\n",
      "dtype: int64\n"
     ]
    }
   ],
   "source": [
    "print(\"MAX : \\n\", df.max())\n",
    "print()\n",
    "print(\"MEAN : \\n {}\".format(df.mean()))\n",
    "print()\n",
    "print(\"MIN : \\n\", df.min())"
   ]
  },
  {
   "cell_type": "code",
   "execution_count": 201,
   "id": "4a55b740",
   "metadata": {},
   "outputs": [
    {
     "name": "stdout",
     "output_type": "stream",
     "text": [
      "Income Mean     :  159354.79194630872\n",
      "Population Mean :  27.21476510067114\n"
     ]
    }
   ],
   "source": [
    "income_mean = df['Income'].mean()\n",
    "population_mean = df['Population'].mean()\n",
    "\n",
    "print(\"Income Mean     : \", income_mean)\n",
    "print(\"Population Mean : \", population_mean)"
   ]
  },
  {
   "cell_type": "code",
   "execution_count": 202,
   "id": "de649822",
   "metadata": {},
   "outputs": [
    {
     "data": {
      "text/plain": [
       "54.0"
      ]
     },
     "execution_count": 202,
     "metadata": {},
     "output_type": "execute_result"
    }
   ],
   "source": [
    "np.median(df['Income'])"
   ]
  },
  {
   "cell_type": "code",
   "execution_count": 203,
   "id": "2394c145",
   "metadata": {},
   "outputs": [
    {
     "data": {
      "text/plain": [
       "ModeResult(mode=array([1], dtype=int64), count=array([17]))"
      ]
     },
     "execution_count": 203,
     "metadata": {},
     "output_type": "execute_result"
    }
   ],
   "source": [
    "stats.mode(df['Income'])"
   ]
  },
  {
   "cell_type": "markdown",
   "id": "56db2846",
   "metadata": {},
   "source": [
    "### Using Visualizations"
   ]
  },
  {
   "cell_type": "code",
   "execution_count": 204,
   "id": "cc8a4077",
   "metadata": {
    "scrolled": false
   },
   "outputs": [
    {
     "data": {
      "text/plain": [
       "<AxesSubplot:title={'center':'Graph of Income VS Population'}, xlabel='Population', ylabel='Income'>"
      ]
     },
     "execution_count": 204,
     "metadata": {},
     "output_type": "execute_result"
    },
    {
     "data": {
      "image/png": "[encoded data removed]",
      "text/plain": [
       "<Figure size 1440x360 with 1 Axes>"
      ]
     },
     "metadata": {
      "needs_background": "light"
     },
     "output_type": "display_data"
    }
   ],
   "source": [
    "fig = plt.figure()\n",
    "fig.set_figwidth(20)\n",
    "fig.set_figheight(5)\n",
    "\n",
    "plt.title('Graph of Income VS Population')\n",
    "sns.barplot(x = population, y = income)"
   ]
  },
  {
   "cell_type": "code",
   "execution_count": 205,
   "id": "bbc67ada",
   "metadata": {},
   "outputs": [
    {
     "data": {
      "image/png": "[encoded data removed]",
      "text/plain": [
       "<Figure size 1800x360 with 1 Axes>"
      ]
     },
     "metadata": {
      "needs_background": "light"
     },
     "output_type": "display_data"
    }
   ],
   "source": [
    "fig = plt.figure()\n",
    "fig.set_figwidth(25)\n",
    "fig.set_figheight(5)\n",
    "\n",
    "plt.bar(population, income)\n",
    "\n",
    "plt.title('Graph of Income VS Population')\n",
    "plt.xlabel('Population')\n",
    "plt.ylabel('Income')\n",
    "plt.xticks(population, rotation ='0')\n",
    "plt.show()"
   ]
  },
  {
   "cell_type": "markdown",
   "id": "e58cb1c6",
   "metadata": {},
   "source": [
    "By performing this simple Visualization we understood that <b> there are just 6 people with Income more than 10M$ out of 150 people </b> so it' won't be usefull at all opening a Luxury Car Showroom \n",
    "\n",
    "The Average Cost of Prosche Vehicles is 5M$ but if just 6 people have their income in the suitable bracket it will be loss for company, hence it must move to another city which has higher Income Rate like Monaco"
   ]
  },
  {
   "cell_type": "code",
   "execution_count": 219,
   "id": "c44a90fc",
   "metadata": {
    "scrolled": false
   },
   "outputs": [
    {
     "data": {
      "image/png": "[encoded data removed]",
      "text/plain": [
       "<Figure size 5040x2160 with 1 Axes>"
      ]
     },
     "metadata": {
      "needs_background": "light"
     },
     "output_type": "display_data"
    }
   ],
   "source": [
    "fig = plt.figure()\n",
    "fig.set_figwidth(70)\n",
    "fig.set_figheight(30)\n",
    "\n",
    "sns.barplot(x = income, y = population)\n",
    "plt.yticks(population)\n",
    "plt.show()"
   ]
  },
  {
   "cell_type": "markdown",
   "id": "0257f802",
   "metadata": {},
   "source": [
    "***"
   ]
  },
  {
   "cell_type": "markdown",
   "id": "97bdfe2f",
   "metadata": {},
   "source": [
    "Another Method can also be used for the same type of Problem: <br>\n",
    "\n",
    "Find the \n",
    "1) Mean <br>\n",
    "2) Median <br>\n",
    "3) Mode <br>\n",
    "4) Max <br>\n",
    "5) Min <br>\n",
    "\n",
    "Using all these Values we can determine insights like: <br>\n",
    "\n",
    "If in the City of Kansas the Mean Income is 200k USD, but suddenly a billionare moves into the city, then Mean Income changes to 1.2M USD <br>\n",
    "\n",
    "So using Mean would be useless here, hence we would use Median and if required Mode <br>"
   ]
  },
  {
   "cell_type": "markdown",
   "id": "853de6ad",
   "metadata": {},
   "source": [
    "***"
   ]
  },
  {
   "cell_type": "markdown",
   "id": "8fffe036",
   "metadata": {},
   "source": [
    "## <center align> Thank you"
   ]
  }
 ],
 "metadata": {
  "kernelspec": {
   "display_name": "Python 3 (ipykernel)",
   "language": "python",
   "name": "python3"
  },
  "language_info": {
   "codemirror_mode": {
    "name": "ipython",
    "version": 3
   },
   "file_extension": ".py",
   "mimetype": "text/x-python",
   "name": "python",
   "nbconvert_exporter": "python",
   "pygments_lexer": "ipython3",
   "version": "3.8.10"
  }
 },
 "nbformat": 4,
 "nbformat_minor": 5
}
